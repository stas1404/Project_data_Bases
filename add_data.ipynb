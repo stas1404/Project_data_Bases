{
 "cells": [
  {
   "cell_type": "code",
   "execution_count": 108,
   "id": "c6e16ece-3832-43d9-9cb8-0a17bd688228",
   "metadata": {},
   "outputs": [],
   "source": [
    "import psycopg2\n",
    "import random\n",
    "import string\n",
    "connection = psycopg2.connect(dbname=\"pg_db\", host=\"localhost\",\n",
    "                 user=\"postgres\", password=\"postgres\",\n",
    "                 port=\"5432\")\n",
    "cursor = connection.cursor()"
   ]
  },
  {
   "cell_type": "code",
   "execution_count": 109,
   "id": "26a0bef2-822b-4cd2-8bd4-1c9cf3c57519",
   "metadata": {},
   "outputs": [],
   "source": [
    "import string\n",
    "def generate_random_string():\n",
    "    return \"\".join([random.choice(string.ascii_lowercase) for i in range(25)])\n",
    "sight_types = ['museum','sculpture','cathedral','reserve','tower']"
   ]
  },
  {
   "cell_type": "code",
   "execution_count": 110,
   "id": "9c6e6aa0-f3e5-4cfb-bc20-4555c85d98e3",
   "metadata": {},
   "outputs": [],
   "source": [
    "for i in range(25):\n",
    "    cursor.execute('insert into project.sights (name, type) values(\\n' +\n",
    "                    \"\\'\" + generate_random_string() + '\\',' +\n",
    "                    \"\\'\" + random.choice(sight_types) + '\\'\\n);')\n",
    "    connection.commit()"
   ]
  },
  {
   "cell_type": "code",
   "execution_count": 111,
   "id": "bed28a75-c17a-4ba5-90c5-792d933b184a",
   "metadata": {},
   "outputs": [],
   "source": [
    "for i in range(25):\n",
    "    cursor.execute('insert into project.location (country, city) values(\\n' +\n",
    "                    \"\\'\" + generate_random_string() + '\\',' +\n",
    "                    \"\\'\" + generate_random_string() + '\\'\\n);')\n",
    "    connection.commit()"
   ]
  },
  {
   "cell_type": "code",
   "execution_count": 112,
   "id": "d58c1232-15a1-492a-bb18-392d9fa378a8",
   "metadata": {},
   "outputs": [],
   "source": [
    "for i in range(25):\n",
    "    cursor.execute('insert into project.Geographical_coordinates (latitude, longtitude) values(\\n' +\n",
    "                     \"\\'\" + str(round(random.uniform(36753562912, 90), 13)) + '\\',' +\n",
    "                    \"\\'\" + str(round(random.uniform(0, 90), 13)) + '\\'\\n);')\n",
    "    connection.commit()"
   ]
  },
  {
   "cell_type": "code",
   "execution_count": 113,
   "id": "2582b72c-635b-4850-ac14-c9038e2d7052",
   "metadata": {},
   "outputs": [],
   "source": [
    "for i in range(25):\n",
    "    cursor.execute('insert into project.contacts (phone_number, site, fax) values(\\n' +\n",
    "                    \"\\'\" + str(round(random.randint(36753562912, 96753562912))) + '\\',' +\n",
    "                    \"\\'\" + generate_random_string() + \"\\', \" + \n",
    "                    \"\\'\" + str(round(random.randint(36753562912, 96753562912)))+ '\\'\\n);')\n",
    "    connection.commit()"
   ]
  },
  {
   "cell_type": "code",
   "execution_count": 119,
   "id": "ebb80b49-1f33-4969-ae30-c392716c6567",
   "metadata": {},
   "outputs": [],
   "source": [
    "for i in range(25):\n",
    "    cursor.execute('insert into project.chronology (foundation_date, add_to_UNESCO) values(\\n' +\n",
    "                    \"\\'\" + str(round(random.randint(10, 12))) + '.' +\n",
    "                    str(round(random.randint(10, 28))) + '.' + str(round(random.randint(0, 2013)))+ '\\',' +\n",
    "                    \"\\'\" + str(round(random.randint(10, 12))) + '.' +\n",
    "                    str(round(random.randint(10, 28))) + '.'+  str(round(random.randint(0, 2013))) + '\\'\\n);')\n",
    "    connection.commit()"
   ]
  }
 ],
 "metadata": {
  "kernelspec": {
   "display_name": "Python 3 (ipykernel)",
   "language": "python",
   "name": "python3"
  },
  "language_info": {
   "codemirror_mode": {
    "name": "ipython",
    "version": 3
   },
   "file_extension": ".py",
   "mimetype": "text/x-python",
   "name": "python",
   "nbconvert_exporter": "python",
   "pygments_lexer": "ipython3",
   "version": "3.10.12"
  }
 },
 "nbformat": 4,
 "nbformat_minor": 5
}
